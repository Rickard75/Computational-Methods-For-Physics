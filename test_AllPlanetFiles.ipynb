{
 "cells": [
  {
   "cell_type": "code",
   "execution_count": 1,
   "metadata": {},
   "outputs": [
    {
     "name": "stdout",
     "output_type": "stream",
     "text": [
      "File trovati: ['planet_jupiter_v15_6fpy_1y.txt', 'planet_neptune_v15_6fpy_1y.txt', 'planet_saturn_v15_6fpy_1y.txt', 'planet_uranus_v15_6fpy_1y.txt']\n"
     ]
    }
   ],
   "source": [
    "import os\n",
    "\n",
    "# Directory contenente i file\n",
    "directory = \"./\"  # Cambia con il percorso della directory dei file\n",
    "\n",
    "# Lista per i file che iniziano con \"planet\"\n",
    "file_list = []\n",
    "\n",
    "# Itera su tutti i file nella directory\n",
    "for filename in os.listdir(directory):\n",
    "    if filename.startswith(\"planet\") and filename.endswith(\".txt\"):\n",
    "        file_list.append(filename)\n",
    "\n",
    "# Stampa la lista dei file trovati\n",
    "print(\"File trovati:\", file_list)\n"
   ]
  }
 ],
 "metadata": {
  "kernelspec": {
   "display_name": "Python 3",
   "language": "python",
   "name": "python3"
  },
  "language_info": {
   "codemirror_mode": {
    "name": "ipython",
    "version": 3
   },
   "file_extension": ".py",
   "mimetype": "text/x-python",
   "name": "python",
   "nbconvert_exporter": "python",
   "pygments_lexer": "ipython3",
   "version": "3.10.12"
  }
 },
 "nbformat": 4,
 "nbformat_minor": 2
}

{
 "cells": [
  {
   "cell_type": "code",
   "execution_count": 3,
   "metadata": {},
   "outputs": [
    {
     "data": {
      "image/png": "[encoded data removed]",
      "text/plain": [
       "<Figure size 640x480 with 1 Axes>"
      ]
     },
     "metadata": {},
     "output_type": "display_data"
    }
   ],
   "source": [
    "import numpy as np\n",
    "import matplotlib.pyplot as plt\n",
    "from matplotlib.animation import FuncAnimation\n",
    "\n",
    "# Costanti\n",
    "AU = 1.496e11  # Unità astronomica (in metri)\n",
    "orbital_period = 365.25 * 24 * 3600  # Periodo orbitale in secondi (365,25 giorni)\n",
    "T_simulation = 1000000 * 365.25 * 24 * 3600  # Tempo di simulazione in secondi (1 milione di anni)\n",
    "frames = 1000  # Numero totale di frame nell'animazione\n",
    "time_per_frame = T_simulation / frames  # Intervallo di tempo simulato per frame\n",
    "\n",
    "# Inizializzazione della figura e dell'asse\n",
    "fig, ax = plt.subplots()\n",
    "ax.set_xlim(-AU * 1.5, AU * 1.5)\n",
    "ax.set_ylim(-AU * 1.5, AU * 1.5)\n",
    "ax.set_aspect('equal')\n",
    "ax.set_facecolor('black')\n",
    "\n",
    "# Oggetti da animare\n",
    "earth, = ax.plot([], [], 'o', color='blue', markersize=5)  # Terra\n",
    "sun, = ax.plot(0, 0, 'o', color='yellow', markersize=20)  # Sole\n",
    "\n",
    "# Funzione di inizializzazione\n",
    "def init():\n",
    "    earth.set_data([], [])\n",
    "    return earth,\n",
    "\n",
    "# Funzione di aggiornamento per l'animazione\n",
    "def update(frame):\n",
    "    # Calcolo il tempo simulato corrispondente al frame corrente\n",
    "    time_elapsed = frame * time_per_frame\n",
    "    # Calcolo la posizione della Terra in base al tempo simulato\n",
    "    angle = 2 * np.pi * (time_elapsed % orbital_period) / orbital_period  # Angolo in radianti\n",
    "    x = AU * np.cos(angle)\n",
    "    y = AU * np.sin(angle)\n",
    "    earth.set_data([x], [y])  # Inserire x e y come sequenze\n",
    "    return earth,\n",
    "\n",
    "# Creazione dell'animazione\n",
    "ani = FuncAnimation(fig, update, frames=frames, init_func=init, blit=True)\n",
    "\n",
    "# Salvataggio dell'animazione\n",
    "ani.save('earth_orbit_million_years.mp4', writer='ffmpeg', fps=30)\n",
    "\n",
    "plt.show()\n"
   ]
  }
 ],
 "metadata": {
  "kernelspec": {
   "display_name": "Python 3",
   "language": "python",
   "name": "python3"
  },
  "language_info": {
   "codemirror_mode": {
    "name": "ipython",
    "version": 3
   },
   "file_extension": ".py",
   "mimetype": "text/x-python",
   "name": "python",
   "nbconvert_exporter": "python",
   "pygments_lexer": "ipython3",
   "version": "3.10.12"
  }
 },
 "nbformat": 4,
 "nbformat_minor": 2
}

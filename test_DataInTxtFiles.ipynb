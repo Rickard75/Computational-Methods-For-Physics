{
 "cells": [
  {
   "cell_type": "code",
   "execution_count": null,
   "metadata": {},
   "outputs": [
    {
     "name": "stdout",
     "output_type": "stream",
     "text": [
      "[[ 1.10262953e+32  2.55895864e+33]\n",
      " [ 7.42718999e+33 -4.80708743e+32]\n",
      " [-1.11783722e+33 -8.83120034e+33]\n",
      " [-4.34793380e+33 -4.67490964e+33]\n",
      " [ 6.60311175e+32 -9.55338208e+33]\n",
      " [-6.64678398e+33  8.55509004e+33]\n",
      " [ 6.00371987e+33 -2.05185767e+31]\n",
      " [-1.76188399e+33 -7.43131676e+33]]\n"
     ]
    }
   ],
   "source": [
    "import random\n",
    "import numpy as np\n",
    "\n",
    "num_planets = 8\n",
    "num_coords = 2\n",
    "list_data = np.zeros((num_planets,num_coords))\n",
    "list_filename = []\n",
    "#---------------------------------------------------OK\n",
    "# Creazione dei file\n",
    "for i in range(num_planets):\n",
    "    filename = f\"planet_{i}.txt\"\n",
    "    list_filename.append(filename)\n",
    "#---------------------------------------------------OK\n",
    "    \n",
    "# Creazione dei dati e inserimento su file\n",
    "for i in range(num_planets):\n",
    "    for j in range(num_coords):\n",
    "        list_data[i][j] = random.uniform(-10e33,10e33)\n",
    "        #print(f\"Inserisco {list[i][j]} in posizione ({i};{j})\")\n",
    "    with open (list_filename[i], 'a') as file:\n",
    "        file.write(f\"{list_data[i][0]},{list_data[i][1]}\\n\")\n",
    "\n",
    "print(list_data)"
   ]
  }
 ],
 "metadata": {
  "kernelspec": {
   "display_name": "Python 3",
   "language": "python",
   "name": "python3"
  },
  "language_info": {
   "codemirror_mode": {
    "name": "ipython",
    "version": 3
   },
   "file_extension": ".py",
   "mimetype": "text/x-python",
   "name": "python",
   "nbconvert_exporter": "python",
   "pygments_lexer": "ipython3",
   "version": "3.10.12"
  }
 },
 "nbformat": 4,
 "nbformat_minor": 2
}
